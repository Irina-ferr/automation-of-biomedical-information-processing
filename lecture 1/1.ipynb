{
 "cells": [
  {
   "cell_type": "markdown",
   "id": "96860325",
   "metadata": {},
   "source": [
    "## Функции "
   ]
  },
  {
   "cell_type": "code",
   "execution_count": null,
   "id": "8fe4fd6c",
   "metadata": {},
   "outputs": [],
   "source": [
    "def line ():\n",
    "    return 0\n",
    "def sin():\n",
    "    return 0\n",
    "def cos():\n",
    "    return 0\n",
    "def quadratic_equation():\n",
    "    return 0\n",
    "def biquadratic_equation():\n",
    "    return 0"
   ]
  },
  {
   "cell_type": "markdown",
   "id": "023b87fa",
   "metadata": {},
   "source": [
    "## Метод 1\n"
   ]
  },
  {
   "cell_type": "code",
   "execution_count": null,
   "id": "bdabf6b6",
   "metadata": {},
   "outputs": [],
   "source": [
    "\n",
    "def bisection():\n",
    "    return 0\n"
   ]
  },
  {
   "cell_type": "markdown",
   "id": "ce99ad23",
   "metadata": {},
   "source": [
    "## Метод 2"
   ]
  },
  {
   "cell_type": "code",
   "execution_count": null,
   "id": "d6c69d5a",
   "metadata": {},
   "outputs": [],
   "source": [
    "def simple_iteration ():\n",
    "    return 0\n"
   ]
  },
  {
   "cell_type": "markdown",
   "id": "dec20487",
   "metadata": {},
   "source": [
    "## Метод 3"
   ]
  },
  {
   "cell_type": "code",
   "execution_count": null,
   "id": "8cbcb543",
   "metadata": {},
   "outputs": [],
   "source": [
    "def Newton ():\n",
    "    return 0"
   ]
  },
  {
   "cell_type": "markdown",
   "id": "5e44f9bf",
   "metadata": {},
   "source": [
    "## Линейные уравнения"
   ]
  },
  {
   "cell_type": "code",
   "execution_count": null,
   "id": "f775e5df",
   "metadata": {},
   "outputs": [],
   "source": [
    "\"\"\"\n",
    "kx+b=0\n",
    "(k=1,b=3)\n",
    "(k=5,b=-10)\n",
    "(k=-1,b=0)\n",
    "\"\"\""
   ]
  },
  {
   "cell_type": "markdown",
   "id": "c47cf8d6",
   "metadata": {},
   "source": [
    "## Квадратичные и биквадратичные"
   ]
  },
  {
   "cell_type": "code",
   "execution_count": null,
   "id": "903601f9",
   "metadata": {},
   "outputs": [],
   "source": [
    "\"\"\"\n",
    "x^2+4x+4=0\n",
    "3x^2-6x+1=0\n",
    "2x^4-2x^2+0/5=0\n",
    "3x^4-18x^2-3=0\n",
    "\"\"\""
   ]
  },
  {
   "cell_type": "markdown",
   "id": "6e753ec5",
   "metadata": {},
   "source": [
    "## Тригонометрические"
   ]
  },
  {
   "cell_type": "code",
   "execution_count": null,
   "id": "f8301799",
   "metadata": {},
   "outputs": [],
   "source": [
    "\"\"\"\n",
    "sinx=3^(1/2)/2\n",
    "cos(2pi)=-sin^@(x)+(1/9)\n",
    "\"\"\""
   ]
  }
 ],
 "metadata": {
  "kernelspec": {
   "display_name": "Python 3",
   "language": "python",
   "name": "python3"
  },
  "language_info": {
   "name": "python",
   "version": "3.11.9"
  }
 },
 "nbformat": 4,
 "nbformat_minor": 5
}
