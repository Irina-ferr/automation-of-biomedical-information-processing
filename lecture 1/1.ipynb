{
 "cells": [
  {
   "cell_type": "markdown",
   "id": "96860325",
   "metadata": {},
   "source": [
    "## Функции "
   ]
  },
  {
   "cell_type": "code",
   "execution_count": 1,
   "id": "8fe4fd6c",
   "metadata": {},
   "outputs": [],
   "source": [
    "import numpy as np\n",
    "def line (k,x,b):\n",
    "    return k*x+b\n",
    "def sin(x):\n",
    "    return np.sin(x)\n",
    "def cos(x):\n",
    "    return np.cos(x)\n",
    "def quadratic_equation(x,a,b,c):\n",
    "    return a*x**2 + b*x + c\n",
    "def biquadratic_equation(x,a,b,c):\n",
    "    return  a*x**4 + b*x**2 + c"
   ]
  },
  {
   "cell_type": "markdown",
   "id": "023b87fa",
   "metadata": {},
   "source": [
    "## Метод 1\n"
   ]
  },
  {
   "cell_type": "code",
   "execution_count": 2,
   "id": "bdabf6b6",
   "metadata": {},
   "outputs": [],
   "source": [
    "\n",
    "def bisection(x_init,x_fin,f,epsilon=1e-6):\n",
    "    if f(x_init) * f(x_fin) >= 0:\n",
    "        raise ValueError(\"На концах интервала одинаковые знаки\")\n",
    "    xinit = x_init\n",
    "    xfin = x_fin\n",
    "    while abs(xfin - xinit) > epsilon:\n",
    "        # середина промежутка\n",
    "        xmed = (xinit + xfin) / 2\n",
    "        \n",
    "        # в какой половине корень\n",
    "        if f(xinit) * f(xmed) < 0:\n",
    "            #первая половина с корнем\n",
    "            xfin = xmed\n",
    "        else:\n",
    "            # вторая половина с корнем\n",
    "            xinit = xmed\n",
    "    \n",
    "    # середина конечного интервала\n",
    "    return (xinit + xfin) / 2\n",
    "    "
   ]
  },
  {
   "cell_type": "markdown",
   "id": "ce99ad23",
   "metadata": {},
   "source": [
    "## Метод 2"
   ]
  },
  {
   "cell_type": "code",
   "execution_count": null,
   "id": "d6c69d5a",
   "metadata": {},
   "outputs": [],
   "source": [
    "def simple_iteration ():\n",
    "    return 0\n"
   ]
  },
  {
   "cell_type": "markdown",
   "id": "dec20487",
   "metadata": {},
   "source": [
    "## Метод 3"
   ]
  },
  {
   "cell_type": "code",
   "execution_count": null,
   "id": "8cbcb543",
   "metadata": {},
   "outputs": [],
   "source": [
    "def Newton ():\n",
    "    return 0"
   ]
  },
  {
   "cell_type": "markdown",
   "id": "5e44f9bf",
   "metadata": {},
   "source": [
    "## Линейные уравнения"
   ]
  },
  {
   "cell_type": "code",
   "execution_count": null,
   "id": "f775e5df",
   "metadata": {
    "vscode": {
     "languageId": "ini"
    }
   },
   "outputs": [],
   "source": [
    "\"\"\"\n",
    "kx+b=0\n",
    "(k=1,b=3)\n",
    "(k=5,b=-10)\n",
    "(k=-1,b=0)\n",
    "\"\"\"\n"
   ]
  },
  {
   "cell_type": "markdown",
   "id": "c47cf8d6",
   "metadata": {},
   "source": [
    "## Квадратичные и биквадратичные"
   ]
  },
  {
   "cell_type": "code",
   "execution_count": null,
   "id": "903601f9",
   "metadata": {},
   "outputs": [],
   "source": [
    "\"\"\"\n",
    "x^2+4x+4=0\n",
    "3x^2-6x+1=0\n",
    "2x^4-2x^2+0/5=0\n",
    "3x^4-18x^2-3=0\n",
    "\"\"\""
   ]
  },
  {
   "cell_type": "markdown",
   "id": "6e753ec5",
   "metadata": {},
   "source": [
    "## Тригонометрические"
   ]
  },
  {
   "cell_type": "code",
   "execution_count": null,
   "id": "f8301799",
   "metadata": {},
   "outputs": [],
   "source": [
    "\"\"\"\n",
    "sinx=3^(1/2)/2\n",
    "cos(2pi)=-sin^@(x)+(1/9)\n",
    "\"\"\""
   ]
  }
 ],
 "metadata": {
  "kernelspec": {
   "display_name": "Python 3",
   "language": "python",
   "name": "python3"
  },
  "language_info": {
   "codemirror_mode": {
    "name": "ipython",
    "version": 3
   },
   "file_extension": ".py",
   "mimetype": "text/x-python",
   "name": "python",
   "nbconvert_exporter": "python",
   "pygments_lexer": "ipython3",
   "version": "3.11.9"
  }
 },
 "nbformat": 4,
 "nbformat_minor": 5
}
