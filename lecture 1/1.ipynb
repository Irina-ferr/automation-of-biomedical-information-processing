{
 "cells": [
  {
   "cell_type": "markdown",
   "id": "5e44f9bf",
   "metadata": {},
   "source": [
    "# Линейные уравнения"
   ]
  },
  {
   "cell_type": "markdown",
   "id": "023b87fa",
   "metadata": {},
   "source": [
    "## Метод 1\n"
   ]
  }
 ],
 "metadata": {
  "language_info": {
   "name": "python"
  }
 },
 "nbformat": 4,
 "nbformat_minor": 5
}
